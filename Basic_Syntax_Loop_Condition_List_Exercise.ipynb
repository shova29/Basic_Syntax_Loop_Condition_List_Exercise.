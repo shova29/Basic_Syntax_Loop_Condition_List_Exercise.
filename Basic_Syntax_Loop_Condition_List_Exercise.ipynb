{
  "nbformat": 4,
  "nbformat_minor": 0,
  "metadata": {
    "colab": {
      "name": "Basic_Syntax_Loop_Condition_List_Exercise.ipynb",
      "provenance": [],
      "collapsed_sections": []
    },
    "kernelspec": {
      "name": "python3",
      "display_name": "Python 3"
    },
    "accelerator": "TPU"
  },
  "cells": [
    {
      "cell_type": "markdown",
      "metadata": {
        "id": "D6r35BUngxXN"
      },
      "source": [
        "\n",
        "**Basic of Python:**\n",
        "\n",
        "Various Datatypes in Python,Variable,Variables Assigment and Print Formatting\n",
        "\n"
      ]
    },
    {
      "cell_type": "markdown",
      "metadata": {
        "id": "nbqc7L0-gdfl"
      },
      "source": [
        "**Datatype**"
      ]
    },
    {
      "cell_type": "code",
      "metadata": {
        "colab": {
          "base_uri": "https://localhost:8080/"
        },
        "id": "0wNUFQPPgjMh",
        "outputId": "2c0b5691-5d82-4cff-da85-7c205cfc8ca1"
      },
      "source": [
        "10+10"
      ],
      "execution_count": null,
      "outputs": [
        {
          "output_type": "execute_result",
          "data": {
            "text/plain": [
              "20"
            ]
          },
          "metadata": {
            "tags": []
          },
          "execution_count": 21
        }
      ]
    },
    {
      "cell_type": "code",
      "metadata": {
        "colab": {
          "base_uri": "https://localhost:8080/"
        },
        "id": "PZ5LZhX-Kg1z",
        "outputId": "57708eb0-cc58-461c-c121-b682a46e06d6"
      },
      "source": [
        "12-5"
      ],
      "execution_count": null,
      "outputs": [
        {
          "output_type": "execute_result",
          "data": {
            "text/plain": [
              "7"
            ]
          },
          "metadata": {
            "tags": []
          },
          "execution_count": 22
        }
      ]
    },
    {
      "cell_type": "code",
      "metadata": {
        "colab": {
          "base_uri": "https://localhost:8080/"
        },
        "id": "X9YJ3zm6goIc",
        "outputId": "dedff475-355a-459c-c363-2dd67115c31a"
      },
      "source": [
        "5*6\n"
      ],
      "execution_count": null,
      "outputs": [
        {
          "output_type": "execute_result",
          "data": {
            "text/plain": [
              "30"
            ]
          },
          "metadata": {
            "tags": []
          },
          "execution_count": 23
        }
      ]
    },
    {
      "cell_type": "code",
      "metadata": {
        "colab": {
          "base_uri": "https://localhost:8080/"
        },
        "id": "Ph0y3ew-ddnM",
        "outputId": "dfae91b3-e54b-45cb-ee3c-a7747f4906b4"
      },
      "source": [
        "20**2"
      ],
      "execution_count": null,
      "outputs": [
        {
          "output_type": "execute_result",
          "data": {
            "text/plain": [
              "400"
            ]
          },
          "metadata": {
            "tags": []
          },
          "execution_count": 26
        }
      ]
    },
    {
      "cell_type": "code",
      "metadata": {
        "colab": {
          "base_uri": "https://localhost:8080/"
        },
        "id": "L1NICVEpKe33",
        "outputId": "cf350aa2-45fb-4f9d-dec3-d6e1904b697c"
      },
      "source": [
        "12/2"
      ],
      "execution_count": null,
      "outputs": [
        {
          "output_type": "execute_result",
          "data": {
            "text/plain": [
              "6.0"
            ]
          },
          "metadata": {
            "tags": []
          },
          "execution_count": 24
        }
      ]
    },
    {
      "cell_type": "code",
      "metadata": {
        "colab": {
          "base_uri": "https://localhost:8080/"
        },
        "id": "XzQAaGwLKm5x",
        "outputId": "86c8c71f-74f3-45fa-a3df-ad958b3d6995"
      },
      "source": [
        "12%2"
      ],
      "execution_count": null,
      "outputs": [
        {
          "output_type": "execute_result",
          "data": {
            "text/plain": [
              "0"
            ]
          },
          "metadata": {
            "tags": []
          },
          "execution_count": 25
        }
      ]
    },
    {
      "cell_type": "markdown",
      "metadata": {
        "id": "nbNrjSZEKrdb"
      },
      "source": [
        "**Check the Data types**"
      ]
    },
    {
      "cell_type": "code",
      "metadata": {
        "colab": {
          "base_uri": "https://localhost:8080/"
        },
        "id": "ml_4zB_bKszk",
        "outputId": "ef59421c-ac9e-48e8-e7d6-7b4595b92b42"
      },
      "source": [
        "type(True)"
      ],
      "execution_count": null,
      "outputs": [
        {
          "output_type": "execute_result",
          "data": {
            "text/plain": [
              "bool"
            ]
          },
          "metadata": {
            "tags": []
          },
          "execution_count": 12
        }
      ]
    },
    {
      "cell_type": "code",
      "metadata": {
        "colab": {
          "base_uri": "https://localhost:8080/"
        },
        "id": "j3TFmrpddut7",
        "outputId": "23b69c93-d192-4a32-8fd9-a3bc3a6c4e14"
      },
      "source": [
        "type(False)"
      ],
      "execution_count": null,
      "outputs": [
        {
          "output_type": "execute_result",
          "data": {
            "text/plain": [
              "bool"
            ]
          },
          "metadata": {
            "tags": []
          },
          "execution_count": 27
        }
      ]
    },
    {
      "cell_type": "code",
      "metadata": {
        "colab": {
          "base_uri": "https://localhost:8080/"
        },
        "id": "E54GYDYoKzzT",
        "outputId": "5794a090-56d8-4748-e251-ebcd15168ed2"
      },
      "source": [
        "type(\"Python World\")"
      ],
      "execution_count": null,
      "outputs": [
        {
          "output_type": "execute_result",
          "data": {
            "text/plain": [
              "str"
            ]
          },
          "metadata": {
            "tags": []
          },
          "execution_count": 13
        }
      ]
    },
    {
      "cell_type": "markdown",
      "metadata": {
        "id": "cLkQaXFRK6BE"
      },
      "source": [
        "**Strings**"
      ]
    },
    {
      "cell_type": "code",
      "metadata": {
        "colab": {
          "base_uri": "https://localhost:8080/",
          "height": 36
        },
        "id": "7h4zrYBnK7AV",
        "outputId": "d40047df-1e05-417a-adcc-cd01bf37e483"
      },
      "source": [
        "\"Oparajita\""
      ],
      "execution_count": null,
      "outputs": [
        {
          "output_type": "execute_result",
          "data": {
            "application/vnd.google.colaboratory.intrinsic+json": {
              "type": "string"
            },
            "text/plain": [
              "'Oparajita'"
            ]
          },
          "metadata": {
            "tags": []
          },
          "execution_count": 28
        }
      ]
    },
    {
      "cell_type": "code",
      "metadata": {
        "colab": {
          "base_uri": "https://localhost:8080/",
          "height": 36
        },
        "id": "i0UZ33tsLCud",
        "outputId": "21cbbee0-b94a-4849-d022-73c1a3ad1239"
      },
      "source": [
        "'Bibi Halima'"
      ],
      "execution_count": null,
      "outputs": [
        {
          "output_type": "execute_result",
          "data": {
            "application/vnd.google.colaboratory.intrinsic+json": {
              "type": "string"
            },
            "text/plain": [
              "'Bibi Halima'"
            ]
          },
          "metadata": {
            "tags": []
          },
          "execution_count": 15
        }
      ]
    },
    {
      "cell_type": "code",
      "metadata": {
        "colab": {
          "base_uri": "https://localhost:8080/"
        },
        "id": "Fxv7vxqBLafY",
        "outputId": "e987cdb4-632f-48ac-9485-521781ff0b68"
      },
      "source": [
        "type(\"Bibi Halima\")"
      ],
      "execution_count": null,
      "outputs": [
        {
          "output_type": "execute_result",
          "data": {
            "text/plain": [
              "str"
            ]
          },
          "metadata": {
            "tags": []
          },
          "execution_count": 16
        }
      ]
    },
    {
      "cell_type": "markdown",
      "metadata": {
        "id": "aqM8EAWog8af"
      },
      "source": [
        "**Python Conditions:** Python conditions can be used in several ways, most commonly in \"if statements\" and loops.An \"if statement\" is written by using the if keyword."
      ]
    },
    {
      "cell_type": "code",
      "metadata": {
        "colab": {
          "base_uri": "https://localhost:8080/"
        },
        "id": "QBu8lT5QK_-D",
        "outputId": "a186d1ad-eaec-4117-fbd6-e35552ada593"
      },
      "source": [
        "x = 9\n",
        "y = 20\n",
        "if y > x:\n",
        "  print(\"y is greater than x\")"
      ],
      "execution_count": null,
      "outputs": [
        {
          "output_type": "stream",
          "text": [
            "y is greater than x\n"
          ],
          "name": "stdout"
        }
      ]
    },
    {
      "cell_type": "markdown",
      "metadata": {
        "id": "tFPaTWH0pK8B"
      },
      "source": [
        "**Elif:** The elif keyword is pythons way of saying \"if the previous conditions were not true, then try this condition\"."
      ]
    },
    {
      "cell_type": "code",
      "metadata": {
        "id": "mddYjSD-pSJO"
      },
      "source": [
        "x = 20\n",
        "y = 9\n",
        "if y > x:\n",
        "  print(\"y is greater than x\")\n",
        "elif x == y:\n",
        "  print(\"x and y are equal\")"
      ],
      "execution_count": null,
      "outputs": []
    },
    {
      "cell_type": "markdown",
      "metadata": {
        "id": "MHXB_erxpYBQ"
      },
      "source": [
        "**Else:** The else keyword catches anything which isn't caught by the preceding conditions."
      ]
    },
    {
      "cell_type": "code",
      "metadata": {
        "colab": {
          "base_uri": "https://localhost:8080/"
        },
        "id": "VkII18ECSq-a",
        "outputId": "866e7331-feed-48a4-9082-6e29d0976d26"
      },
      "source": [
        "x = 20\n",
        "y = 9\n",
        "if y > x:\n",
        "  print(\"y is greater than x\")\n",
        "elif x == y:\n",
        "  print(\"x and y are equal\")\n",
        "else:\n",
        "  print(\"x is greater than y\")"
      ],
      "execution_count": null,
      "outputs": [
        {
          "output_type": "stream",
          "text": [
            "x is greater than y\n"
          ],
          "name": "stdout"
        }
      ]
    },
    {
      "cell_type": "markdown",
      "metadata": {
        "id": "JUCrUgMMmNba"
      },
      "source": [
        "**Python Loops:** A for loop is used for iterating over a sequence that is either a list, a tuple, a dictionary, a set or a string."
      ]
    },
    {
      "cell_type": "code",
      "metadata": {
        "colab": {
          "base_uri": "https://localhost:8080/"
        },
        "id": "U8DEmB_OS9M2",
        "outputId": "4cc2c46a-84ef-49d6-dee6-666eedaebeb7"
      },
      "source": [
        "flowers = [\"rose\", \"lily\", \"cherry\"]\n",
        "for x in flowers:\n",
        "  print(x)"
      ],
      "execution_count": null,
      "outputs": [
        {
          "output_type": "stream",
          "text": [
            "rose\n",
            "lily\n",
            "cherry\n"
          ],
          "name": "stdout"
        }
      ]
    },
    {
      "cell_type": "markdown",
      "metadata": {
        "id": "lkDIvNEWo7PU"
      },
      "source": [
        "**With the break statement we can stop the loop before it has looped through all the items.**"
      ]
    },
    {
      "cell_type": "code",
      "metadata": {
        "colab": {
          "base_uri": "https://localhost:8080/"
        },
        "id": "mJfkNIs4TAfD",
        "outputId": "09c6f356-216e-4767-d4bb-7ed4a9f409f7"
      },
      "source": [
        "flowers = [\"rose\", \"lily\", \"cherry\"]\n",
        "for x in flowers:\n",
        "  print(x)\n",
        "  if x == \"lily\":\n",
        "    break"
      ],
      "execution_count": null,
      "outputs": [
        {
          "output_type": "stream",
          "text": [
            "rose\n",
            "lily\n"
          ],
          "name": "stdout"
        }
      ]
    },
    {
      "cell_type": "markdown",
      "metadata": {
        "id": "4V029UrkgsSy"
      },
      "source": [
        "\n",
        "**Lists**\n"
      ]
    },
    {
      "cell_type": "markdown",
      "metadata": {
        "id": "X92Q1j1ikno9"
      },
      "source": [
        "Lists are used to store multiple items in a single variable.\n",
        "Lists are one of 4 built-in data types in Python used to store collections of data, the other 3 are Tuple, Set, and Dictionary, all with different qualities and usage.Lists are created using square brackets"
      ]
    },
    {
      "cell_type": "code",
      "metadata": {
        "id": "2B4JTSAPj0ka"
      },
      "source": [
        "list1 = [\"rose\", \"lily\", \"cherry\"]"
      ],
      "execution_count": null,
      "outputs": []
    },
    {
      "cell_type": "code",
      "metadata": {
        "colab": {
          "base_uri": "https://localhost:8080/"
        },
        "id": "_TJAfsbmRR5b",
        "outputId": "3e1c82b8-ce2a-47ca-c0af-06ca3fcdc631"
      },
      "source": [
        "len(list1)"
      ],
      "execution_count": null,
      "outputs": [
        {
          "output_type": "execute_result",
          "data": {
            "text/plain": [
              "3"
            ]
          },
          "metadata": {
            "tags": []
          },
          "execution_count": 35
        }
      ]
    },
    {
      "cell_type": "code",
      "metadata": {
        "colab": {
          "base_uri": "https://localhost:8080/"
        },
        "id": "Lj455f_7Qn--",
        "outputId": "74c480a6-5051-4ac2-9dd8-44d721de4912"
      },
      "source": [
        "type([])"
      ],
      "execution_count": null,
      "outputs": [
        {
          "output_type": "execute_result",
          "data": {
            "text/plain": [
              "list"
            ]
          },
          "metadata": {
            "tags": []
          },
          "execution_count": 36
        }
      ]
    },
    {
      "cell_type": "code",
      "metadata": {
        "id": "OWcUJTQ0RAYn"
      },
      "source": [
        "lst=[]"
      ],
      "execution_count": null,
      "outputs": []
    },
    {
      "cell_type": "code",
      "metadata": {
        "colab": {
          "base_uri": "https://localhost:8080/"
        },
        "id": "FusHo0s4RI5X",
        "outputId": "4eea44b0-a291-452d-a2be-a690d1f62a7c"
      },
      "source": [
        "lst=list()\n",
        "type(lst)"
      ],
      "execution_count": null,
      "outputs": [
        {
          "output_type": "execute_result",
          "data": {
            "text/plain": [
              "list"
            ]
          },
          "metadata": {
            "tags": []
          },
          "execution_count": 38
        }
      ]
    },
    {
      "cell_type": "markdown",
      "metadata": {
        "id": "frWGVV9mkqMk"
      },
      "source": [
        "**Range of Indexes:** Range can be specified a range of indexes by specifying where to start and where to end the range.When specifying a range, the return value will be a new list with the specified items."
      ]
    },
    {
      "cell_type": "code",
      "metadata": {
        "colab": {
          "base_uri": "https://localhost:8080/"
        },
        "id": "obFN8sQSlLfk",
        "outputId": "bc83edd6-e5c6-45a8-9de1-b0d44b52fb6e"
      },
      "source": [
        "list = [\"apple\", \"banana\", \"cherry\", \"orange\", \"kiwi\", \"melon\", \"mango\"]\n",
        "print(list[3:5])"
      ],
      "execution_count": null,
      "outputs": [
        {
          "output_type": "stream",
          "text": [
            "['orange', 'kiwi']\n"
          ],
          "name": "stdout"
        }
      ]
    },
    {
      "cell_type": "markdown",
      "metadata": {
        "id": "WeQxaIvVlV8L"
      },
      "source": [
        "**Change Item Value:** To change the value of a specific item, refer to the index number"
      ]
    },
    {
      "cell_type": "code",
      "metadata": {
        "colab": {
          "base_uri": "https://localhost:8080/"
        },
        "id": "oeR1sQ0ylWcX",
        "outputId": "4ea0f50b-fd33-4126-ad9b-d6620db8dfb8"
      },
      "source": [
        "list = [\"apple\", \"banana\", \"cherry\"]\n",
        "list[2] = \"blackcurrant\"\n",
        "print(list)"
      ],
      "execution_count": null,
      "outputs": [
        {
          "output_type": "stream",
          "text": [
            "['apple', 'banana', 'blackcurrant']\n"
          ],
          "name": "stdout"
        }
      ]
    },
    {
      "cell_type": "markdown",
      "metadata": {
        "id": "Zk_-S35ZlyyF"
      },
      "source": [
        "**Append Items:** To add an item to the end of the list, use the append() method"
      ]
    },
    {
      "cell_type": "code",
      "metadata": {
        "colab": {
          "base_uri": "https://localhost:8080/"
        },
        "id": "VXcHEQh6mKl0",
        "outputId": "d2d4784a-9d35-4be4-e332-829a76842ed3"
      },
      "source": [
        "list = [\"rose\", \"lily\", \"cherry\"]\n",
        "list.append(\"tulip\")\n",
        "print(list)"
      ],
      "execution_count": null,
      "outputs": [
        {
          "output_type": "stream",
          "text": [
            "['rose', 'lily', 'cherry', 'tulip']\n"
          ],
          "name": "stdout"
        }
      ]
    },
    {
      "cell_type": "markdown",
      "metadata": {
        "id": "DzKySxyNmOYH"
      },
      "source": [
        "**Join Two Lists:**\n",
        "There are several ways to join, or concatenate, two or more lists in Python.One of the easiest ways are by using the + operator."
      ]
    },
    {
      "cell_type": "code",
      "metadata": {
        "colab": {
          "base_uri": "https://localhost:8080/"
        },
        "id": "O6OavBHOmTri",
        "outputId": "a00236db-70bc-4a64-8396-34390df4806c"
      },
      "source": [
        "list1 = [\"orchid\", \"hena\", \"lotus\"]\n",
        "list2 = [\"rose\", \"lily\", \"cherry\"]\n",
        "\n",
        "list3 = list1 + list2\n",
        "print(list3) "
      ],
      "execution_count": null,
      "outputs": [
        {
          "output_type": "stream",
          "text": [
            "['orchid', 'hena', 'lotus', 'rose', 'lily', 'cherry']\n"
          ],
          "name": "stdout"
        }
      ]
    },
    {
      "cell_type": "markdown",
      "metadata": {
        "id": "WA4us9YlmbWi"
      },
      "source": [
        "**Tuple:**Tuples are used to store multiple items in a single variable.Tuple is one of 4 built-in data types in Python used to store collections of data, the other 3 are List, Set, and Dictionary, all with different qualities and usage.\n"
      ]
    },
    {
      "cell_type": "code",
      "metadata": {
        "colab": {
          "base_uri": "https://localhost:8080/"
        },
        "id": "ImErq-Ekm2Rl",
        "outputId": "420c3529-3808-42d3-e5f0-6bf564558f32"
      },
      "source": [
        "tuple = (\"rose\", \"lily\", \"cherry\")\n",
        "print(tuple)"
      ],
      "execution_count": null,
      "outputs": [
        {
          "output_type": "stream",
          "text": [
            "('rose', 'lily', 'cherry')\n"
          ],
          "name": "stdout"
        }
      ]
    },
    {
      "cell_type": "code",
      "metadata": {
        "id": "UQCE2RCFRxS4"
      },
      "source": [
        "tuple=(\"Bibi\",\"Halima\",\"Shova\")"
      ],
      "execution_count": null,
      "outputs": []
    },
    {
      "cell_type": "code",
      "metadata": {
        "id": "ZDDrsp-jRzEL"
      },
      "source": [
        "tuple=('Python','World')"
      ],
      "execution_count": null,
      "outputs": []
    },
    {
      "cell_type": "code",
      "metadata": {
        "colab": {
          "base_uri": "https://localhost:8080/"
        },
        "id": "kvua9E3jR5tO",
        "outputId": "58cbe4b8-7591-4d83-ca10-92dbec525cc1"
      },
      "source": [
        "print(type(tuple))\n",
        "print(tuple)"
      ],
      "execution_count": null,
      "outputs": [
        {
          "output_type": "stream",
          "text": [
            "<class 'tuple'>\n",
            "('Python', 'World')\n"
          ],
          "name": "stdout"
        }
      ]
    },
    {
      "cell_type": "markdown",
      "metadata": {
        "id": "JGojiA0knHJQ"
      },
      "source": [
        "**Access Tuple Items:** Tuple can be accessed through tuple items by referring to the index number, inside square brackets"
      ]
    },
    {
      "cell_type": "code",
      "metadata": {
        "colab": {
          "base_uri": "https://localhost:8080/"
        },
        "id": "dRiton_bnF88",
        "outputId": "b337ec80-1982-41b3-aa83-6af4ec73c63d"
      },
      "source": [
        "tuple = (\"rose\", \"lily\", \"cherry\")\n",
        "print(tuple[2])"
      ],
      "execution_count": null,
      "outputs": [
        {
          "output_type": "stream",
          "text": [
            "cherry\n"
          ],
          "name": "stdout"
        }
      ]
    },
    {
      "cell_type": "markdown",
      "metadata": {
        "id": "NcqmU_XMnGT4"
      },
      "source": [
        "**Dictionary:** Dictionaries are used to store data values in key:value pairs.A dictionary is a collection which is ordered*, changeable and does not allow duplicates."
      ]
    },
    {
      "cell_type": "code",
      "metadata": {
        "colab": {
          "base_uri": "https://localhost:8080/"
        },
        "id": "f3nJAT5AnUOM",
        "outputId": "3747003b-309e-4262-895d-0b9264de68e7"
      },
      "source": [
        "dict =\t{\n",
        "  \"brand\": \"RealMe\",\n",
        "  \"model\": \"6i\",\n",
        "  \"year\": 2020\n",
        "}\n",
        "print(dict)"
      ],
      "execution_count": null,
      "outputs": [
        {
          "output_type": "stream",
          "text": [
            "{'brand': 'RealMe', 'model': '6i', 'year': 2020}\n"
          ],
          "name": "stdout"
        }
      ]
    },
    {
      "cell_type": "markdown",
      "metadata": {
        "id": "3CY1O8-lnYM2"
      },
      "source": [
        "**Accessing Item:** Access the items of a dictionary by referring to its key name, inside square brackets."
      ]
    },
    {
      "cell_type": "code",
      "metadata": {
        "colab": {
          "base_uri": "https://localhost:8080/"
        },
        "id": "UHlD3fjxnk_k",
        "outputId": "ee81a8e2-234a-4b24-8b77-82bb799b46cf"
      },
      "source": [
        "dict =\t{\n",
        "  \"brand\": \"RealMe\",\n",
        "  \"model\": \"6i\",\n",
        "  \"year\": 2020\n",
        "}\n",
        "x = dict[\"model\"]\n",
        "print(dict)"
      ],
      "execution_count": null,
      "outputs": [
        {
          "output_type": "stream",
          "text": [
            "{'brand': 'RealMe', 'model': '6i', 'year': 2020}\n"
          ],
          "name": "stdout"
        }
      ]
    },
    {
      "cell_type": "markdown",
      "metadata": {
        "id": "U0535cpFn0Zy"
      },
      "source": [
        "**Change Values:** Change the value of a specific item by referring to its key name."
      ]
    },
    {
      "cell_type": "code",
      "metadata": {
        "colab": {
          "base_uri": "https://localhost:8080/"
        },
        "id": "IbIqGlvdn1GA",
        "outputId": "a0bf0a1b-af41-4421-b3b6-c4ee13e2c28f"
      },
      "source": [
        "dict =\t{\n",
        "  \"brand\": \"RealMe\",\n",
        "  \"model\": \"6i\",\n",
        "  \"year\": 2020\n",
        "}\n",
        "dict[\"year\"] = 2021\n",
        "print(dict)"
      ],
      "execution_count": null,
      "outputs": [
        {
          "output_type": "stream",
          "text": [
            "{'brand': 'RealMe', 'model': '6i', 'year': 2021}\n"
          ],
          "name": "stdout"
        }
      ]
    },
    {
      "cell_type": "markdown",
      "metadata": {
        "id": "qvCMjSlwOLTc"
      },
      "source": [
        "**Exercise:Code_1**"
      ]
    },
    {
      "cell_type": "code",
      "metadata": {
        "id": "5RzRZYdSOKKx",
        "colab": {
          "base_uri": "https://localhost:8080/"
        },
        "outputId": "f665ab3a-da09-4110-9053-cb6a2529f027"
      },
      "source": [
        "xList = [1, 2, 3, 4, 5, 6, 7]\n",
        "xList = [i**3 for i in xList]\n",
        "print(xList)"
      ],
      "execution_count": null,
      "outputs": [
        {
          "output_type": "stream",
          "text": [
            "[1, 8, 27, 64, 125, 216, 343]\n"
          ],
          "name": "stdout"
        }
      ]
    },
    {
      "cell_type": "markdown",
      "metadata": {
        "id": "NlYg_7qKOT7W"
      },
      "source": [
        "**Exercise:Code_2**"
      ]
    },
    {
      "cell_type": "code",
      "metadata": {
        "id": "gJxfB8I0OTGF",
        "colab": {
          "base_uri": "https://localhost:8080/"
        },
        "outputId": "34ad8e13-f33f-492d-d14a-cc864f9fa44b"
      },
      "source": [
        "list1 = [\"Hello \", \"take \"]\n",
        "list2 = [\"Dear\", \"Sir\"]\n",
        "Newlist=[]\n",
        "for a in range(len(list1)):\n",
        "  for b in range(len(list2)):\n",
        "     Newlist.append(list1[a]+list2[b])\n",
        "\n",
        "print(Newlist)"
      ],
      "execution_count": null,
      "outputs": [
        {
          "output_type": "stream",
          "text": [
            "['Hello Dear', 'Hello Sir', 'take Dear', 'take Sir']\n"
          ],
          "name": "stdout"
        }
      ]
    }
  ]
}